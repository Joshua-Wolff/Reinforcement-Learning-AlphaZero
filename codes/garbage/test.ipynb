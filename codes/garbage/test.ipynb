{
 "cells": [
  {
   "cell_type": "markdown",
   "metadata": {},
   "source": [
    "### TEST DU CODE"
   ]
  },
  {
   "cell_type": "code",
   "execution_count": 17,
   "metadata": {},
   "outputs": [],
   "source": [
    "import chess.svg\n",
    "from anytree import NodeMixin\n",
    "import numpy as np\n",
    "import chess\n",
    "from random import sample\n",
    "from IPython.display import display\n",
    "from MCTS import *\n",
    "from MCTS_nn import *"
   ]
  },
  {
   "cell_type": "code",
   "execution_count": 18,
   "metadata": {},
   "outputs": [
    {
     "ename": "FileNotFoundError",
     "evalue": "[Errno 2] No such file or directory: '/content/Reinforcement-Learning-AlphaZero/codes/model_config.json'",
     "output_type": "error",
     "traceback": [
      "\u001b[0;31m---------------------------------------------------------------------------\u001b[0m",
      "\u001b[0;31mFileNotFoundError\u001b[0m                         Traceback (most recent call last)",
      "\u001b[0;32m/var/folders/4l/bg41zyb56ssbc0jbts9sl0980000gn/T/ipykernel_79854/795675082.py\u001b[0m in \u001b[0;36m<module>\u001b[0;34m\u001b[0m\n\u001b[1;32m      1\u001b[0m \u001b[0mgame\u001b[0m \u001b[0;34m=\u001b[0m \u001b[0mchess\u001b[0m\u001b[0;34m.\u001b[0m\u001b[0mBoard\u001b[0m\u001b[0;34m(\u001b[0m\u001b[0;34m)\u001b[0m\u001b[0;34m\u001b[0m\u001b[0;34m\u001b[0m\u001b[0m\n\u001b[0;32m----> 2\u001b[0;31m \u001b[0mMCTS\u001b[0m \u001b[0;34m=\u001b[0m \u001b[0mmcts_nn\u001b[0m\u001b[0;34m(\u001b[0m\u001b[0mgame\u001b[0m\u001b[0;34m)\u001b[0m\u001b[0;34m\u001b[0m\u001b[0;34m\u001b[0m\u001b[0m\n\u001b[0m\u001b[1;32m      3\u001b[0m \u001b[0;34m\u001b[0m\u001b[0m\n\u001b[1;32m      4\u001b[0m \u001b[0;32mwhile\u001b[0m \u001b[0mgame\u001b[0m\u001b[0;34m.\u001b[0m\u001b[0moutcome\u001b[0m\u001b[0;34m(\u001b[0m\u001b[0;34m)\u001b[0m \u001b[0;32mis\u001b[0m \u001b[0;32mNone\u001b[0m\u001b[0;34m:\u001b[0m\u001b[0;34m\u001b[0m\u001b[0;34m\u001b[0m\u001b[0m\n\u001b[1;32m      5\u001b[0m \u001b[0;34m\u001b[0m\u001b[0m\n",
      "\u001b[0;32m~/Desktop/Cours/Reinforcement Learning/projet/codes/MCTS_nn.py\u001b[0m in \u001b[0;36m__init__\u001b[0;34m(self, position)\u001b[0m\n\u001b[1;32m     29\u001b[0m         \u001b[0mself\u001b[0m\u001b[0;34m.\u001b[0m\u001b[0mcurrent_position\u001b[0m \u001b[0;34m=\u001b[0m \u001b[0mposition\u001b[0m\u001b[0;34m.\u001b[0m\u001b[0mcopy\u001b[0m\u001b[0;34m(\u001b[0m\u001b[0;34m)\u001b[0m\u001b[0;34m\u001b[0m\u001b[0;34m\u001b[0m\u001b[0m\n\u001b[1;32m     30\u001b[0m         \u001b[0mself\u001b[0m\u001b[0;34m.\u001b[0m\u001b[0mroot\u001b[0m \u001b[0;34m=\u001b[0m \u001b[0mnode_nn\u001b[0m\u001b[0;34m(\u001b[0m\u001b[0;34m)\u001b[0m \u001b[0;31m# create the tree root, that correspond to initial_position\u001b[0m\u001b[0;34m\u001b[0m\u001b[0;34m\u001b[0m\u001b[0m\n\u001b[0;32m---> 31\u001b[0;31m         \u001b[0mself\u001b[0m\u001b[0;34m.\u001b[0m\u001b[0mmodel\u001b[0m \u001b[0;34m=\u001b[0m \u001b[0mload_model\u001b[0m\u001b[0;34m(\u001b[0m\u001b[0;34m)\u001b[0m \u001b[0;31m# load nn model from nn.py\u001b[0m\u001b[0;34m\u001b[0m\u001b[0;34m\u001b[0m\u001b[0m\n\u001b[0m\u001b[1;32m     32\u001b[0m         \u001b[0mself\u001b[0m\u001b[0;34m.\u001b[0m\u001b[0mmoves\u001b[0m \u001b[0;34m=\u001b[0m \u001b[0;34m[\u001b[0m\u001b[0mchess\u001b[0m\u001b[0;34m.\u001b[0m\u001b[0mMove\u001b[0m\u001b[0;34m.\u001b[0m\u001b[0mfrom_uci\u001b[0m\u001b[0;34m(\u001b[0m\u001b[0mmove\u001b[0m\u001b[0;34m)\u001b[0m \u001b[0;32mfor\u001b[0m \u001b[0mmove\u001b[0m \u001b[0;32min\u001b[0m \u001b[0mcreate_uci_labels\u001b[0m\u001b[0;34m(\u001b[0m\u001b[0;34m)\u001b[0m\u001b[0;34m]\u001b[0m\u001b[0;34m\u001b[0m\u001b[0;34m\u001b[0m\u001b[0m\n\u001b[1;32m     33\u001b[0m \u001b[0;34m\u001b[0m\u001b[0m\n",
      "\u001b[0;32m~/Desktop/Cours/Reinforcement Learning/projet/codes/nn.py\u001b[0m in \u001b[0;36mload_model\u001b[0;34m()\u001b[0m\n\u001b[1;32m     10\u001b[0m     \u001b[0mweight_path\u001b[0m \u001b[0;34m=\u001b[0m \u001b[0;34m\"/content/Reinforcement-Learning-AlphaZero/codes/model_weights.h5\"\u001b[0m\u001b[0;34m\u001b[0m\u001b[0;34m\u001b[0m\u001b[0m\n\u001b[1;32m     11\u001b[0m \u001b[0;34m\u001b[0m\u001b[0m\n\u001b[0;32m---> 12\u001b[0;31m     \u001b[0;32mwith\u001b[0m \u001b[0mopen\u001b[0m\u001b[0;34m(\u001b[0m\u001b[0mconfig_path\u001b[0m\u001b[0;34m,\u001b[0m \u001b[0;34m\"rt\"\u001b[0m\u001b[0;34m)\u001b[0m \u001b[0;32mas\u001b[0m \u001b[0mf\u001b[0m\u001b[0;34m:\u001b[0m\u001b[0;34m\u001b[0m\u001b[0;34m\u001b[0m\u001b[0m\n\u001b[0m\u001b[1;32m     13\u001b[0m         \u001b[0mmodel\u001b[0m \u001b[0;34m=\u001b[0m \u001b[0mModel\u001b[0m\u001b[0;34m.\u001b[0m\u001b[0mfrom_config\u001b[0m\u001b[0;34m(\u001b[0m\u001b[0mjson\u001b[0m\u001b[0;34m.\u001b[0m\u001b[0mload\u001b[0m\u001b[0;34m(\u001b[0m\u001b[0mf\u001b[0m\u001b[0;34m)\u001b[0m\u001b[0;34m)\u001b[0m\u001b[0;34m\u001b[0m\u001b[0;34m\u001b[0m\u001b[0m\n\u001b[1;32m     14\u001b[0m         \u001b[0mmodel\u001b[0m\u001b[0;34m.\u001b[0m\u001b[0mload_weights\u001b[0m\u001b[0;34m(\u001b[0m\u001b[0mweight_path\u001b[0m\u001b[0;34m)\u001b[0m\u001b[0;34m\u001b[0m\u001b[0;34m\u001b[0m\u001b[0m\n",
      "\u001b[0;31mFileNotFoundError\u001b[0m: [Errno 2] No such file or directory: '/content/Reinforcement-Learning-AlphaZero/codes/model_config.json'"
     ]
    }
   ],
   "source": [
    "game = chess.Board()\n",
    "MCTS = mcts_nn(game)\n",
    "\n",
    "while game.outcome() is None:\n",
    "\n",
    "    for i in range(100):\n",
    "        leaf = MCTS.selection()\n",
    "        child_node, result = MCTS.expansion(leaf)\n",
    "        MCTS.backpropagation(child_node,result)\n",
    "    \n",
    "    N = [child.N for child in MCTS.root.children]\n",
    "    print([[child.N, child.move] for child in MCTS.root.children])\n",
    "    print(sum([child.N for child in MCTS.root.children]))\n",
    "    index = sample([i for i, j in enumerate(N) if j == max(N)],1)[0] \n",
    "    move = [child.move for child in MCTS.root.children][index]\n",
    "    game.push(move)\n",
    "\n",
    "    # tree reuse\n",
    "    MCTS.root = [child for child in MCTS.root.children][index]\n",
    "    MCTS.root.parent = None\n",
    "    MCTS.initial_position = game.copy()\n",
    "    MCTS.current_position = game.copy()\n",
    "    #MCTS = mcts(game)\n",
    "\n",
    "    display(game)\n",
    "\n",
    "'''CODER LA PARTIE CONTRE HUMAIN'''\n",
    "display(game)  \n",
    "    "
   ]
  },
  {
   "cell_type": "markdown",
   "metadata": {},
   "source": [
    "### NOUVELLE CLASSE MCTS NN"
   ]
  },
  {
   "cell_type": "code",
   "execution_count": null,
   "metadata": {},
   "outputs": [],
   "source": [
    "class node_nn(NodeMixin):\n",
    "\n",
    "    def __init__(self,move=None,parent=None,prob=0,V=0):\n",
    "        self.move = move \n",
    "        self.N = 0\n",
    "        self.V = V\n",
    "        self.prob = prob\n",
    "        self.parent = parent\n",
    "\n",
    "    def score(self,white_to_play):\n",
    "        if white_to_play:\n",
    "            relative_W = self.V\n",
    "        else:\n",
    "            relative_W = -self.V\n",
    "        return relative_W/(self.N or 1) + self.prob * np.sqrt(self.parent.N) / (1 + self.N)\n",
    "        \n",
    "\n",
    "\n",
    "class mcts_nn():\n",
    "    def __init__(self,position):\n",
    "        self.initial_position = position.copy() # initial_position and current_position are chess.Board() objects \n",
    "        self.current_position = position.copy()\n",
    "        self.root = node_nn() # create the tree root, that correspond to initial_position\n",
    "\n",
    "    def selection(self): # we reach a leaf using score selection\n",
    "        current_node = self.root # we start from the root\n",
    "        while current_node.is_leaf is not True: # check if we are in a leaf\n",
    "            white_to_play = self.current_position.turn\n",
    "            score = [child.score(white_to_play) for child in current_node.children] # list of scores for the node's children\n",
    "            index = sample([i for i, j in enumerate(score) if j == max(score)],1)[0] # si plusieurs max tirage au hasard\n",
    "            current_node = current_node.children[index] # the best children (with maximal UCT) becomes the current node\n",
    "            self.current_position.push(current_node.move) # mise à jour de la position courante pour la phase d'expansion / simulation\n",
    "        leaf = current_node # the current node is a leaf by definition\n",
    "        return leaf\n",
    "\n",
    "    def expansion_simulation(self,leaf): \n",
    "        outcome = self.current_position.outcome() \n",
    "        #EXPANSION\n",
    "        legal_moves = self.current_position.legal_moves # génération des coups légaux\n",
    "        child_node = None # juste pour ne pas bugger la fin de partie\n",
    "\n",
    "        if outcome is None: # si la partie n'est pas terminée\n",
    "            # pour chaque coup jouable, on évalue la position à l'aide du nn\n",
    "            # on stocke p dans les enfants et on fait remonter v dans les ancètres\n",
    "            p,v = evaluate_position(model, position)\n",
    "            for move in legal_moves: # création des nouveaux noeuds correspondants aux coups légaux\n",
    "\n",
    "                node_nn(move=move,parent=leaf,)\n",
    "            self.current_position.push(chosen_move) # mise à jour de la position courante avec le nouveau coup\n",
    "            outcome = self.current_position.outcome() # mise à jour de l'issue de la partie\n",
    "        #SIMULATION\n",
    "        while outcome is None : # tant que la partie n'est pas terminée\n",
    "            legal_moves = self.current_position.legal_moves # génération des coups légaux\n",
    "            random_move = sample(list(legal_moves),1)[0] # tirage aléatoire du prochain coup\n",
    "            self.current_position.push(random_move) # mise à jour de la position courante avec le nouveau coup\n",
    "            outcome = self.current_position.outcome() # mise à jour de l'issue de la partie\n",
    "        result = outcome.result() \n",
    "\n",
    "        return child_node, result\n",
    "\n",
    "    def backpropagation(self, child_node, result): # we backpropagate information through the tree\n",
    "        if result == \"1-0\":\n",
    "            inc = 1\n",
    "        elif result == \"0-1\":\n",
    "            inc = -1\n",
    "        else:\n",
    "            inc = 0\n",
    "        if child_node is not None :  \n",
    "            for ancestor in child_node.iter_path_reverse(): # rétropropagation du résultat issu de la simulation\n",
    "                ancestor.N += 1\n",
    "                ancestor.W += inc\n",
    "        self.current_position = self.initial_position.copy()\n",
    "        return"
   ]
  },
  {
   "cell_type": "code",
   "execution_count": 6,
   "metadata": {},
   "outputs": [],
   "source": [
    "pos = chess.Board()"
   ]
  },
  {
   "cell_type": "code",
   "execution_count": 7,
   "metadata": {},
   "outputs": [],
   "source": [
    "from utils import *"
   ]
  },
  {
   "cell_type": "code",
   "execution_count": 8,
   "metadata": {},
   "outputs": [],
   "source": [
    "moves = create_uci_labels()"
   ]
  },
  {
   "cell_type": "code",
   "execution_count": 12,
   "metadata": {},
   "outputs": [],
   "source": [
    "pos.push(chess.Move.from_uci('e2e4'))"
   ]
  },
  {
   "cell_type": "code",
   "execution_count": 16,
   "metadata": {},
   "outputs": [
    {
     "data": {
      "text/plain": [
       "20"
      ]
     },
     "execution_count": 16,
     "metadata": {},
     "output_type": "execute_result"
    }
   ],
   "source": [
    "[chess.Move.from_uci(move) in pos.legal_moves for move in moves]"
   ]
  },
  {
   "cell_type": "code",
   "execution_count": 21,
   "metadata": {},
   "outputs": [],
   "source": [
    "pos.outcome()"
   ]
  }
 ],
 "metadata": {
  "interpreter": {
   "hash": "40d3a090f54c6569ab1632332b64b2c03c39dcf918b08424e98f38b5ae0af88f"
  },
  "kernelspec": {
   "display_name": "Python 3.9.7 64-bit ('base': conda)",
   "language": "python",
   "name": "python3"
  },
  "language_info": {
   "codemirror_mode": {
    "name": "ipython",
    "version": 3
   },
   "file_extension": ".py",
   "mimetype": "text/x-python",
   "name": "python",
   "nbconvert_exporter": "python",
   "pygments_lexer": "ipython3",
   "version": "3.9.7"
  },
  "orig_nbformat": 4
 },
 "nbformat": 4,
 "nbformat_minor": 2
}
